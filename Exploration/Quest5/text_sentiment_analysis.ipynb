{
 "cells": [
  {
   "cell_type": "markdown",
   "id": "b810955b",
   "metadata": {},
   "source": [
    "# 6-1 프로젝트 : 네이버 영화리뷰 감성분석\n",
    "## 0. 라이브러리"
   ]
  },
  {
   "cell_type": "code",
   "execution_count": 1,
   "id": "f148c238",
   "metadata": {},
   "outputs": [
    {
     "name": "stdout",
     "output_type": "stream",
     "text": [
      "1.3.3\n",
      "0.5.2\n",
      "4.1.2\n"
     ]
    }
   ],
   "source": [
    "import pandas as pd\n",
    "import konlpy\n",
    "import gensim\n",
    "import tensorflow as tf\n",
    "print(pd.__version__)\n",
    "print(konlpy.__version__)\n",
    "print(gensim.__version__)"
   ]
  },
  {
   "cell_type": "markdown",
   "id": "6b8c0039",
   "metadata": {},
   "source": [
    "## 1. 데이터 준비와 확인\n",
    "### 1.1 데이터 불러오기"
   ]
  },
  {
   "cell_type": "code",
   "execution_count": 2,
   "id": "75f39d0b",
   "metadata": {},
   "outputs": [],
   "source": [
    "train_data = pd.read_table('~/aiffel/sentiment_classification/data/ratings_train.txt')\n",
    "test_data = pd.read_table('~/aiffel/sentiment_classification/data/ratings_test.txt')"
   ]
  },
  {
   "cell_type": "markdown",
   "id": "f44da2ab",
   "metadata": {},
   "source": [
    "### 1.2 데이터 확인"
   ]
  },
  {
   "cell_type": "code",
   "execution_count": 3,
   "id": "27b7e612",
   "metadata": {},
   "outputs": [
    {
     "name": "stdout",
     "output_type": "stream",
     "text": [
      "         id                                           document  label\n",
      "0   9976970                                아 더빙.. 진짜 짜증나네요 목소리      0\n",
      "1   3819312                  흠...포스터보고 초딩영화줄....오버연기조차 가볍지 않구나      1\n",
      "2  10265843                                  너무재밓었다그래서보는것을추천한다      0\n",
      "3   9045019                      교도소 이야기구먼 ..솔직히 재미는 없다..평점 조정      0\n",
      "4   6483659  사이몬페그의 익살스런 연기가 돋보였던 영화!스파이더맨에서 늙어보이기만 했던 커스틴 ...      1\n",
      "        id                                           document  label\n",
      "0  6270596                                                굳 ㅋ      1\n",
      "1  9274899                               GDNTOPCLASSINTHECLUB      0\n",
      "2  8544678             뭐야 이 평점들은.... 나쁘진 않지만 10점 짜리는 더더욱 아니잖아      0\n",
      "3  6825595                   지루하지는 않은데 완전 막장임... 돈주고 보기에는....      0\n",
      "4  6723715  3D만 아니었어도 별 다섯 개 줬을텐데.. 왜 3D로 나와서 제 심기를 불편하게 하죠??      0\n"
     ]
    }
   ],
   "source": [
    "print(train_data.head())\n",
    "print(test_data.head())"
   ]
  },
  {
   "cell_type": "markdown",
   "id": "d79c3ef6",
   "metadata": {},
   "source": [
    "## 2. 데이터로 구성\n",
    "### 2.0 필요 라이브러리"
   ]
  },
  {
   "cell_type": "code",
   "execution_count": 4,
   "id": "10ea111a",
   "metadata": {},
   "outputs": [],
   "source": [
    "from konlpy.tag import Mecab\n",
    "import numpy as np\n",
    "from collections import Counter"
   ]
  },
  {
   "cell_type": "markdown",
   "id": "eadd57a8",
   "metadata": {},
   "source": [
    "### 2.1 데이터로 구성\n",
    "- 데이터의 중복 제거\n",
    "- NaN 결측치 제거\n",
    "- 한국어 토크나이저로 토큰화\n",
    "- 불용어(Stopwords) 제거\n",
    "- 사전(word_to_index) 구성\n",
    "- 텍스트 스트링을 사전 인덱스 스트링으로 변환\n",
    "- X_train, y_train, X_test, y_test, word_to_index 리턴"
   ]
  },
  {
   "cell_type": "code",
   "execution_count": 5,
   "id": "cf6b13b5",
   "metadata": {},
   "outputs": [],
   "source": [
    "# 한국어 형태소 분석기\n",
    "tokenizer = Mecab()\n",
    "# 제외할 불용어 목록\n",
    "stopwords = ['의','가','이','은','들','는','좀','잘','걍','과','도','를','으로','자','에','와','한','하다']\n",
    "\n",
    "# 데이터 정의\n",
    "def load_data(train_data, test_data, num_words=10000):\n",
    "    \n",
    "    # 중복 데이터 제거\n",
    "    train_data.drop_duplicates(subset=['document'], inplace=True)\n",
    "    test_data.drop_duplicates(subset=['document'], inplace=True)\n",
    "    \n",
    "    # 결측값 제거\n",
    "    train_data = train_data.dropna(how = 'any') \n",
    "    test_data = test_data.dropna(how = 'any') \n",
    "    \n",
    "    # 토큰화, 불용어 제거\n",
    "    X_train = []\n",
    "    for sentence in train_data['document']:\n",
    "        temp_X = tokenizer.morphs(sentence) # 토큰화\n",
    "        temp_X = [word for word in temp_X if not word in stopwords] # 불용어 제거\n",
    "        X_train.append(temp_X)\n",
    "\n",
    "    X_test = []\n",
    "    for sentence in test_data['document']:\n",
    "        temp_X = tokenizer.morphs(sentence) # 토큰화\n",
    "        temp_X = [word for word in temp_X if not word in stopwords] # 불용어 제거\n",
    "        X_test.append(temp_X)\n",
    "    \n",
    "    # 단어 사전 생성\n",
    "    words = np.concatenate(X_train).tolist()\n",
    "    counter = Counter(words) # 빈도수 계산\n",
    "    counter = counter.most_common(10000-4)\n",
    "    vocab = ['', '', '', ''] + [key for key, _ in counter]\n",
    "    word_to_index = {word:index for index, word in enumerate(vocab)}\n",
    "    \n",
    "    # 인덱스 리스트 변환 \n",
    "    def wordlist_to_indexlist(wordlist):\n",
    "        return [word_to_index[word] if word in word_to_index else word_to_index[''] for word in wordlist]\n",
    "        \n",
    "    X_train = list(map(wordlist_to_indexlist, X_train))\n",
    "    X_test = list(map(wordlist_to_indexlist, X_test))\n",
    "        \n",
    "    return X_train, np.array(list(train_data['label'])), X_test, np.array(list(test_data['label'])), word_to_index\n",
    "    \n",
    "X_train, y_train, X_test, y_test, word_to_index = load_data(train_data, test_data) "
   ]
  },
  {
   "cell_type": "markdown",
   "id": "a402b148",
   "metadata": {},
   "source": [
    "### 2.2 딕셔너리 단어 정리\n",
    "- \"PAD\", \"BOS\", \"UNK\", \"UNUSED\" 추가\n",
    "- index_to_word 생성"
   ]
  },
  {
   "cell_type": "code",
   "execution_count": 6,
   "id": "881248eb",
   "metadata": {},
   "outputs": [
    {
     "name": "stdout",
     "output_type": "stream",
     "text": [
      "{0: '<PAD>', 1: '<BOS>', 2: '<UNK>', 3: '<UNUSED>', 4: '.'}\n"
     ]
    }
   ],
   "source": [
    "word_to_index[\"<PAD>\"] = 0\n",
    "word_to_index[\"<BOS>\"] = 1\n",
    "word_to_index[\"<UNK>\"] = 2\n",
    "word_to_index[\"<UNUSED>\"] = 3\n",
    "index_to_word = {index:word for word, index in word_to_index.items()}\n",
    "\n",
    "top_5_dic = {k: index_to_word[k] for k in sorted(index_to_word)[:5]}\n",
    "\n",
    "print(top_5_dic)"
   ]
  },
  {
   "cell_type": "markdown",
   "id": "30867c13",
   "metadata": {},
   "source": [
    "### 2.3 encode, decode 함수 정의"
   ]
  },
  {
   "cell_type": "code",
   "execution_count": 7,
   "id": "cee724ad",
   "metadata": {},
   "outputs": [],
   "source": [
    "# 문장 1개를 활용할 딕셔너리와 함께 주면, 단어 인덱스 리스트 벡터로 변환해 주는 함수입니다. \n",
    "# 단, 모든 문장은 <BOS>로 시작하는 것으로 합니다. \n",
    "def get_encoded_sentence(sentence, word_to_index):\n",
    "    return [word_to_index['<BOS>']]+[word_to_index[word] if word in word_to_index else word_to_index['<UNK>'] for word in sentence.split()]\n",
    "\n",
    "# 여러 개의 문장 리스트를 한꺼번에 단어 인덱스 리스트 벡터로 encode해 주는 함수입니다. \n",
    "def get_encoded_sentences(sentences, word_to_index):\n",
    "    return [get_encoded_sentence(sentence, word_to_index) for sentence in sentences]\n",
    "\n",
    "# 숫자 벡터로 encode된 문장을 원래대로 decode하는 함수입니다. \n",
    "def get_decoded_sentence(encoded_sentence, index_to_word):\n",
    "    return ' '.join(index_to_word[index] if index in index_to_word else '<UNK>' for index in encoded_sentence[1:])  #[1:]를 통해 <BOS>를 제외\n",
    "\n",
    "# 여러 개의 숫자 벡터로 encode된 문장을 한꺼번에 원래대로 decode하는 함수입니다. \n",
    "def get_decoded_sentences(encoded_sentences, index_to_word):\n",
    "    return [get_decoded_sentence(encoded_sentence, index_to_word) for encoded_sentence in encoded_sentences]"
   ]
  },
  {
   "cell_type": "markdown",
   "id": "ff0eaa4f",
   "metadata": {},
   "source": [
    "## 3. 모델 구성을 위한 데이터 분석 및 가공"
   ]
  },
  {
   "cell_type": "code",
   "execution_count": 8,
   "id": "989635a9",
   "metadata": {},
   "outputs": [
    {
     "name": "stdout",
     "output_type": "stream",
     "text": [
      "<BOS>\n",
      "5\n",
      "<PAD>\n",
      ". .. 포스터 보고 초딩 영화 줄 . ... 오버 연기 조차 가볍 지 않 구나\n"
     ]
    }
   ],
   "source": [
    "print(index_to_word[1])\n",
    "print(word_to_index['영화']) \n",
    "print(index_to_word[0])     \n",
    "\n",
    "print(get_decoded_sentence(X_train[1], index_to_word))"
   ]
  },
  {
   "cell_type": "markdown",
   "id": "bbd02527",
   "metadata": {},
   "source": [
    "### 3.1 토큰의 길이 저장\n",
    "- num_tokens"
   ]
  },
  {
   "cell_type": "code",
   "execution_count": 9,
   "id": "e65781f6",
   "metadata": {},
   "outputs": [
    {
     "name": "stdout",
     "output_type": "stream",
     "text": [
      "[10 17  3 ... 15 23  4]\n"
     ]
    }
   ],
   "source": [
    "total_data_text = list(X_train) + list(X_test) # 숫자들의 리스트 합 25000+25000= 50000\n",
    "\n",
    "num_tokens = [len(tokens) for tokens in total_data_text] # 각 문장의 토큰 길이 저장\n",
    "num_tokens = np.array(num_tokens)\n",
    "print(num_tokens)"
   ]
  },
  {
   "cell_type": "markdown",
   "id": "e5224718",
   "metadata": {},
   "source": [
    "### 3.2 데이터셋 내 문장 길이 분포\n",
    "- 문장길이 평균, 최대, 표준편차"
   ]
  },
  {
   "cell_type": "code",
   "execution_count": 10,
   "id": "8787ea0f",
   "metadata": {},
   "outputs": [
    {
     "name": "stdout",
     "output_type": "stream",
     "text": [
      "문장길이 평균 :  15.96940191154864\n",
      "문장길이 최대 :  116\n",
      "문장길이 표준편차 :  12.843571191092\n"
     ]
    }
   ],
   "source": [
    "print('문장길이 평균 : ', np.mean(num_tokens))\n",
    "print('문장길이 최대 : ', np.max(num_tokens))\n",
    "print('문장길이 표준편차 : ', np.std(num_tokens))"
   ]
  },
  {
   "cell_type": "markdown",
   "id": "273fcc25",
   "metadata": {},
   "source": [
    "### 3.3 최대 문장 길이 지정\n",
    "- 최대 길이 = 평균 + 2*표준편차"
   ]
  },
  {
   "cell_type": "code",
   "execution_count": 11,
   "id": "20920967",
   "metadata": {},
   "outputs": [
    {
     "name": "stdout",
     "output_type": "stream",
     "text": [
      "pad_sequences maxlen :  41\n",
      "전체 문장의 0.9342988343341575%가 maxlen 설정값 이내에 포함됩니다. \n"
     ]
    }
   ],
   "source": [
    "max_tokens = np.mean(num_tokens) + 2 * np.std(num_tokens)\n",
    "maxlen = int(max_tokens) # 소수점 처리\n",
    "print('pad_sequences maxlen : ', maxlen)\n",
    "print(f'전체 문장의 {np.sum(num_tokens < max_tokens) / len(num_tokens)}%가 maxlen 설정값 이내에 포함됩니다. ')"
   ]
  },
  {
   "cell_type": "markdown",
   "id": "dd083405",
   "metadata": {},
   "source": [
    "### 3.4 패딩추가\n",
    "- 패딩을 단어 앞에 추가 (padding='pre')\n",
    "- 최대길이 지정"
   ]
  },
  {
   "cell_type": "code",
   "execution_count": 12,
   "id": "10aa66f4",
   "metadata": {},
   "outputs": [],
   "source": [
    "import numpy as np\n",
    "import tensorflow as tf\n",
    "import os"
   ]
  },
  {
   "cell_type": "code",
   "execution_count": 13,
   "id": "6e569c00",
   "metadata": {},
   "outputs": [
    {
     "name": "stdout",
     "output_type": "stream",
     "text": [
      "(146182, 41) (49157, 41)\n"
     ]
    }
   ],
   "source": [
    "X_train = tf.keras.preprocessing.sequence.pad_sequences(X_train,\n",
    "                                                        value=word_to_index[\"<PAD>\"],\n",
    "                                                        padding='pre',\n",
    "                                                        maxlen=maxlen) \n",
    "\n",
    "X_test = tf.keras.preprocessing.sequence.pad_sequences(X_test,\n",
    "                                                       value=word_to_index[\"<PAD>\"],\n",
    "                                                       padding='pre',\n",
    "                                                       maxlen=maxlen)\n",
    "\n",
    "print(X_train.shape,X_test.shape)"
   ]
  },
  {
   "cell_type": "markdown",
   "id": "1b3713ab",
   "metadata": {},
   "source": [
    "## 4. 모델 구성 및 validation set 구성\n",
    "### 4.1 모델구성\n",
    "- 단방향 LSTM"
   ]
  },
  {
   "cell_type": "code",
   "execution_count": 14,
   "id": "5f8bdaff",
   "metadata": {},
   "outputs": [
    {
     "name": "stdout",
     "output_type": "stream",
     "text": [
      "Model: \"sequential\"\n",
      "_________________________________________________________________\n",
      "Layer (type)                 Output Shape              Param #   \n",
      "=================================================================\n",
      "embedding (Embedding)        (None, None, 16)          160000    \n",
      "_________________________________________________________________\n",
      "lstm (LSTM)                  (None, 8)                 800       \n",
      "_________________________________________________________________\n",
      "dense (Dense)                (None, 8)                 72        \n",
      "_________________________________________________________________\n",
      "dense_1 (Dense)              (None, 1)                 9         \n",
      "=================================================================\n",
      "Total params: 160,881\n",
      "Trainable params: 160,881\n",
      "Non-trainable params: 0\n",
      "_________________________________________________________________\n"
     ]
    }
   ],
   "source": [
    "vocab_size = 10000    # 어휘 사전의 크기입니다(10,000개의 단어)\n",
    "word_vector_dim = 16  # 워드 벡터의 차원 수 (변경 가능한 하이퍼파라미터)\n",
    "\n",
    "model = tf.keras.Sequential()\n",
    "model.add(tf.keras.layers.Embedding(vocab_size, word_vector_dim, input_shape=(None,))) # 임베딩 레이어는 입력된 단어 인덱스를 임베딩 벡터\n",
    "model.add(tf.keras.layers.LSTM(8)) \n",
    "model.add(tf.keras.layers.Dense(8, activation='relu'))\n",
    "model.add(tf.keras.layers.Dense(1, activation='sigmoid')) \n",
    "\n",
    "model.summary()"
   ]
  },
  {
   "cell_type": "markdown",
   "id": "36460450",
   "metadata": {},
   "source": [
    "### 4.2 validataion set\n",
    "- 훈련:검증 = 60:40"
   ]
  },
  {
   "cell_type": "code",
   "execution_count": 15,
   "id": "7faa3356",
   "metadata": {},
   "outputs": [
    {
     "name": "stdout",
     "output_type": "stream",
     "text": [
      "(86182, 41)\n",
      "(86182,)\n",
      "(60000, 41)\n",
      "(60000,)\n"
     ]
    }
   ],
   "source": [
    "# validation set (40%)\n",
    "X_val = X_train[:60000]   \n",
    "y_val = y_train[:60000]\n",
    "\n",
    "# validation set을 제외한 나머지 (60%)\n",
    "partial_X_train = X_train[60000:]  \n",
    "partial_y_train = y_train[60000:]\n",
    "\n",
    "print(partial_X_train.shape)\n",
    "print(partial_y_train.shape)\n",
    "print(X_val.shape)\n",
    "print(y_val.shape)"
   ]
  },
  {
   "cell_type": "markdown",
   "id": "46c3b7c5",
   "metadata": {},
   "source": [
    "## 5. 모델 훈련 개시\n",
    "### 5.1 모델 학습\n",
    "- epochs=20\n",
    "- batch_size=512 (한번에 512문장)\n",
    "- 검증 데이터 사용"
   ]
  },
  {
   "cell_type": "code",
   "execution_count": 16,
   "id": "37c41612",
   "metadata": {},
   "outputs": [
    {
     "name": "stdout",
     "output_type": "stream",
     "text": [
      "Epoch 1/20\n",
      "169/169 [==============================] - 5s 9ms/step - loss: 0.5357 - accuracy: 0.7581 - val_loss: 0.3842 - val_accuracy: 0.8394\n",
      "Epoch 2/20\n",
      "169/169 [==============================] - 1s 6ms/step - loss: 0.3512 - accuracy: 0.8527 - val_loss: 0.3564 - val_accuracy: 0.8460\n",
      "Epoch 3/20\n",
      "169/169 [==============================] - 1s 6ms/step - loss: 0.3197 - accuracy: 0.8677 - val_loss: 0.3526 - val_accuracy: 0.8467\n",
      "Epoch 4/20\n",
      "169/169 [==============================] - 1s 6ms/step - loss: 0.3040 - accuracy: 0.8751 - val_loss: 0.3568 - val_accuracy: 0.8465\n",
      "Epoch 5/20\n",
      "169/169 [==============================] - 1s 6ms/step - loss: 0.2936 - accuracy: 0.8794 - val_loss: 0.3626 - val_accuracy: 0.8440\n",
      "Epoch 6/20\n",
      "169/169 [==============================] - 1s 6ms/step - loss: 0.2843 - accuracy: 0.8836 - val_loss: 0.3655 - val_accuracy: 0.8434\n",
      "Epoch 7/20\n",
      "169/169 [==============================] - 1s 6ms/step - loss: 0.2756 - accuracy: 0.8870 - val_loss: 0.3656 - val_accuracy: 0.8460\n",
      "Epoch 8/20\n",
      "169/169 [==============================] - 1s 6ms/step - loss: 0.2659 - accuracy: 0.8923 - val_loss: 0.3796 - val_accuracy: 0.8433\n",
      "Epoch 9/20\n",
      "169/169 [==============================] - 1s 6ms/step - loss: 0.2568 - accuracy: 0.8969 - val_loss: 0.3810 - val_accuracy: 0.8412\n",
      "Epoch 10/20\n",
      "169/169 [==============================] - 1s 6ms/step - loss: 0.2466 - accuracy: 0.9014 - val_loss: 0.3881 - val_accuracy: 0.8435\n",
      "Epoch 11/20\n",
      "169/169 [==============================] - 1s 7ms/step - loss: 0.2372 - accuracy: 0.9056 - val_loss: 0.3927 - val_accuracy: 0.8425\n",
      "Epoch 12/20\n",
      "169/169 [==============================] - 1s 6ms/step - loss: 0.2284 - accuracy: 0.9092 - val_loss: 0.4097 - val_accuracy: 0.8413\n",
      "Epoch 13/20\n",
      "169/169 [==============================] - 1s 6ms/step - loss: 0.2208 - accuracy: 0.9130 - val_loss: 0.4200 - val_accuracy: 0.8407\n",
      "Epoch 14/20\n",
      "169/169 [==============================] - 1s 6ms/step - loss: 0.2123 - accuracy: 0.9173 - val_loss: 0.4253 - val_accuracy: 0.8404\n",
      "Epoch 15/20\n",
      "169/169 [==============================] - 1s 6ms/step - loss: 0.2040 - accuracy: 0.9208 - val_loss: 0.4371 - val_accuracy: 0.8396\n",
      "Epoch 16/20\n",
      "169/169 [==============================] - 1s 6ms/step - loss: 0.1964 - accuracy: 0.9240 - val_loss: 0.4637 - val_accuracy: 0.8396\n",
      "Epoch 17/20\n",
      "169/169 [==============================] - 1s 6ms/step - loss: 0.1906 - accuracy: 0.9268 - val_loss: 0.4629 - val_accuracy: 0.8365\n",
      "Epoch 18/20\n",
      "169/169 [==============================] - 1s 6ms/step - loss: 0.1820 - accuracy: 0.9307 - val_loss: 0.4724 - val_accuracy: 0.8344\n",
      "Epoch 19/20\n",
      "169/169 [==============================] - 1s 6ms/step - loss: 0.1760 - accuracy: 0.9328 - val_loss: 0.4802 - val_accuracy: 0.8379\n",
      "Epoch 20/20\n",
      "169/169 [==============================] - 1s 6ms/step - loss: 0.1694 - accuracy: 0.9363 - val_loss: 0.5053 - val_accuracy: 0.8358\n"
     ]
    }
   ],
   "source": [
    "model.compile(optimizer='adam',\n",
    "              loss='binary_crossentropy',\n",
    "              metrics=['accuracy'])\n",
    "              \n",
    "epochs=20\n",
    "\n",
    "history = model.fit(partial_X_train,\n",
    "                    partial_y_train,\n",
    "                    epochs=epochs,\n",
    "                    batch_size=512,\n",
    "                    validation_data=(X_val, y_val),\n",
    "                    verbose=1)"
   ]
  },
  {
   "cell_type": "markdown",
   "id": "7c9b3851",
   "metadata": {},
   "source": [
    "### 5.2 모델 평가\n",
    "- 테스트 셋\n",
    "- accuracy: 0.8195"
   ]
  },
  {
   "cell_type": "code",
   "execution_count": 17,
   "id": "0e874a84",
   "metadata": {},
   "outputs": [
    {
     "name": "stdout",
     "output_type": "stream",
     "text": [
      "1537/1537 - 3s - loss: 0.5118 - accuracy: 0.8300\n",
      "[0.511806070804596, 0.8299936652183533]\n"
     ]
    }
   ],
   "source": [
    "results = model.evaluate(X_test,  y_test, verbose=2)\n",
    "\n",
    "print(results)"
   ]
  },
  {
   "cell_type": "markdown",
   "id": "71461b92",
   "metadata": {},
   "source": [
    "### 5.2-2 모델2 평가\n",
    "- conv,maxpool모델 \n",
    "- accuracy: 0.8220"
   ]
  },
  {
   "cell_type": "code",
   "execution_count": 18,
   "id": "8ea7b322",
   "metadata": {},
   "outputs": [
    {
     "name": "stdout",
     "output_type": "stream",
     "text": [
      "Epoch 1/10\n",
      "169/169 [==============================] - 3s 7ms/step - loss: 0.5196 - accuracy: 0.7414 - val_loss: 0.3688 - val_accuracy: 0.8391\n",
      "Epoch 2/10\n",
      "169/169 [==============================] - 1s 6ms/step - loss: 0.3330 - accuracy: 0.8582 - val_loss: 0.3509 - val_accuracy: 0.8459\n",
      "Epoch 3/10\n",
      "169/169 [==============================] - 1s 6ms/step - loss: 0.2950 - accuracy: 0.8782 - val_loss: 0.3490 - val_accuracy: 0.8490\n",
      "Epoch 4/10\n",
      "169/169 [==============================] - 1s 6ms/step - loss: 0.2622 - accuracy: 0.8948 - val_loss: 0.3657 - val_accuracy: 0.8429\n",
      "Epoch 5/10\n",
      "169/169 [==============================] - 1s 6ms/step - loss: 0.2290 - accuracy: 0.9117 - val_loss: 0.3683 - val_accuracy: 0.8473\n",
      "Epoch 6/10\n",
      "169/169 [==============================] - 1s 6ms/step - loss: 0.1932 - accuracy: 0.9290 - val_loss: 0.3947 - val_accuracy: 0.8445\n",
      "Epoch 7/10\n",
      "169/169 [==============================] - 1s 6ms/step - loss: 0.1585 - accuracy: 0.9444 - val_loss: 0.4351 - val_accuracy: 0.8408\n",
      "Epoch 8/10\n",
      "169/169 [==============================] - 1s 6ms/step - loss: 0.1277 - accuracy: 0.9577 - val_loss: 0.4737 - val_accuracy: 0.8367\n",
      "Epoch 9/10\n",
      "169/169 [==============================] - 1s 6ms/step - loss: 0.1025 - accuracy: 0.9682 - val_loss: 0.5185 - val_accuracy: 0.8330\n",
      "Epoch 10/10\n",
      "169/169 [==============================] - 1s 6ms/step - loss: 0.0834 - accuracy: 0.9752 - val_loss: 0.5674 - val_accuracy: 0.8309\n",
      "1537/1537 - 2s - loss: 0.5817 - accuracy: 0.8256\n",
      "[0.5817022919654846, 0.8256403207778931]\n"
     ]
    }
   ],
   "source": [
    "vocab_size = 10000\n",
    "word_vector_dim = 16\n",
    "\n",
    "model = tf.keras.Sequential()\n",
    "model.add(tf.keras.layers.Embedding(vocab_size, word_vector_dim, input_shape=(None,)))\n",
    "model.add(tf.keras.layers.Conv1D(16, 7, activation='relu')) # 16개필터, 필터크기:7\n",
    "model.add(tf.keras.layers.MaxPooling1D(5)) # 5단어중 최댓값\n",
    "model.add(tf.keras.layers.Conv1D(16, 7, activation='relu'))\n",
    "model.add(tf.keras.layers.GlobalMaxPooling1D()) # 전체중 최댓값\n",
    "model.add(tf.keras.layers.Dense(8, activation='relu'))\n",
    "model.add(tf.keras.layers.Dense(1, activation='sigmoid'))\n",
    "\n",
    "model.compile(optimizer='adam',\n",
    "              loss='binary_crossentropy',\n",
    "              metrics=['accuracy'])\n",
    "              \n",
    "epochs=10\n",
    "history = model.fit(partial_X_train,\n",
    "                    partial_y_train,\n",
    "                    epochs=epochs,\n",
    "                    batch_size=512,\n",
    "                    validation_data=(X_val, y_val),\n",
    "                    verbose=1)\n",
    "\n",
    "results = model.evaluate(X_test,  y_test, verbose=2)\n",
    "print(results)"
   ]
  },
  {
   "cell_type": "markdown",
   "id": "31ac9f73",
   "metadata": {},
   "source": [
    "### 5.2-3 모델3 평가\n",
    "- 양방향 lstm모델\n",
    "- accuracy: 0.8329"
   ]
  },
  {
   "cell_type": "code",
   "execution_count": 19,
   "id": "6b8e043c",
   "metadata": {},
   "outputs": [
    {
     "name": "stdout",
     "output_type": "stream",
     "text": [
      "Epoch 1/10\n",
      "169/169 [==============================] - 11s 39ms/step - loss: 0.4550 - accuracy: 0.7761 - val_loss: 0.3664 - val_accuracy: 0.8420\n",
      "Epoch 2/10\n",
      "169/169 [==============================] - 5s 32ms/step - loss: 0.3374 - accuracy: 0.8557 - val_loss: 0.3533 - val_accuracy: 0.8457\n",
      "Epoch 3/10\n",
      "169/169 [==============================] - 5s 32ms/step - loss: 0.3128 - accuracy: 0.8688 - val_loss: 0.3623 - val_accuracy: 0.8436\n",
      "Epoch 4/10\n",
      "169/169 [==============================] - 5s 32ms/step - loss: 0.2969 - accuracy: 0.8774 - val_loss: 0.3550 - val_accuracy: 0.8455\n",
      "Epoch 5/10\n",
      "169/169 [==============================] - 5s 32ms/step - loss: 0.2812 - accuracy: 0.8851 - val_loss: 0.3648 - val_accuracy: 0.8433\n",
      "Epoch 6/10\n",
      "169/169 [==============================] - 6s 33ms/step - loss: 0.2604 - accuracy: 0.8943 - val_loss: 0.3697 - val_accuracy: 0.8433\n",
      "Epoch 7/10\n",
      "169/169 [==============================] - 6s 33ms/step - loss: 0.2399 - accuracy: 0.9031 - val_loss: 0.3844 - val_accuracy: 0.8448\n",
      "Epoch 8/10\n",
      "169/169 [==============================] - 6s 33ms/step - loss: 0.2208 - accuracy: 0.9120 - val_loss: 0.4200 - val_accuracy: 0.8411\n",
      "Epoch 9/10\n",
      "169/169 [==============================] - 6s 33ms/step - loss: 0.2046 - accuracy: 0.9183 - val_loss: 0.4265 - val_accuracy: 0.8389\n",
      "Epoch 10/10\n",
      "169/169 [==============================] - 6s 33ms/step - loss: 0.1915 - accuracy: 0.9251 - val_loss: 0.4713 - val_accuracy: 0.8402\n",
      "1537/1537 - 7s - loss: 0.4773 - accuracy: 0.8358\n",
      "[0.477335125207901, 0.8357710838317871]\n"
     ]
    }
   ],
   "source": [
    "vocab_size = 10000\n",
    "word_vector_dim = 16\n",
    "\n",
    "model = tf.keras.Sequential()\n",
    "model.add(tf.keras.layers.Embedding(vocab_size, word_vector_dim, input_shape=(None,)))\n",
    "model.add(tf.keras.layers.Bidirectional(tf.keras.layers.LSTM(128, return_sequences=True)))\n",
    "model.add(tf.keras.layers.Bidirectional(tf.keras.layers.LSTM(64)))\n",
    "model.add(tf.keras.layers.Dense(64, activation='relu'))\n",
    "model.add(tf.keras.layers.Dense(1, activation='sigmoid'))\n",
    "\n",
    "model.compile(optimizer='adam',\n",
    "              loss='binary_crossentropy',\n",
    "              metrics=['accuracy'])\n",
    "              \n",
    "epochs=10\n",
    "history = model.fit(partial_X_train,\n",
    "                    partial_y_train,\n",
    "                    epochs=epochs,\n",
    "                    batch_size=512,\n",
    "                    validation_data=(X_val, y_val),\n",
    "                    verbose=1)\n",
    "\n",
    "results = model.evaluate(X_test,  y_test, verbose=2)\n",
    "print(results)"
   ]
  },
  {
   "cell_type": "markdown",
   "id": "d5483762",
   "metadata": {},
   "source": [
    "## 6. Loss, Accuracy 그래프 시각화\n",
    "### 6.1 그래프에 그릴 항목 선정\n",
    "- loss\n",
    "- accuracy\n",
    "- val_loss\n",
    "- val_accuracy"
   ]
  },
  {
   "cell_type": "code",
   "execution_count": 20,
   "id": "cf2ea411",
   "metadata": {},
   "outputs": [
    {
     "name": "stdout",
     "output_type": "stream",
     "text": [
      "dict_keys(['loss', 'accuracy', 'val_loss', 'val_accuracy'])\n"
     ]
    }
   ],
   "source": [
    "history_dict = history.history\n",
    "print(history_dict.keys())"
   ]
  },
  {
   "cell_type": "markdown",
   "id": "bbaaad21",
   "metadata": {},
   "source": [
    "### 6.2 loss 그래프"
   ]
  },
  {
   "cell_type": "code",
   "execution_count": 21,
   "id": "9a2dc40c",
   "metadata": {},
   "outputs": [
    {
     "data": {
      "image/png": "[encoded data removed]",
      "text/plain": [
       "<Figure size 432x288 with 1 Axes>"
      ]
     },
     "metadata": {
      "needs_background": "light"
     },
     "output_type": "display_data"
    }
   ],
   "source": [
    "import matplotlib.pyplot as plt\n",
    "\n",
    "acc = history_dict['accuracy']\n",
    "val_acc = history_dict['val_accuracy']\n",
    "loss = history_dict['loss']\n",
    "val_loss = history_dict['val_loss']\n",
    "\n",
    "epochs = range(1, len(acc) + 1)\n",
    "\n",
    "# \"bo\"는 \"파란색 점\"입니다\n",
    "plt.plot(epochs, loss, 'bo', label='Training loss')\n",
    "# b는 \"파란 실선\"입니다\n",
    "plt.plot(epochs, val_loss, 'b', label='Validation loss')\n",
    "plt.title('Training and validation loss')\n",
    "plt.xlabel('Epochs')\n",
    "plt.ylabel('Loss')\n",
    "plt.legend()\n",
    "\n",
    "plt.show()"
   ]
  },
  {
   "cell_type": "markdown",
   "id": "7ecb9138",
   "metadata": {},
   "source": [
    "### 6.3 accuracy 그래프"
   ]
  },
  {
   "cell_type": "code",
   "execution_count": 22,
   "id": "f491ee60",
   "metadata": {},
   "outputs": [
    {
     "data": {
      "image/png": "[encoded data removed]",
      "text/plain": [
       "<Figure size 432x288 with 1 Axes>"
      ]
     },
     "metadata": {
      "needs_background": "light"
     },
     "output_type": "display_data"
    }
   ],
   "source": [
    "plt.clf()   # 그림을 초기화합니다\n",
    "\n",
    "plt.plot(epochs, acc, 'bo', label='Training acc')\n",
    "plt.plot(epochs, val_acc, 'b', label='Validation acc')\n",
    "plt.title('Training and validation accuracy')\n",
    "plt.xlabel('Epochs')\n",
    "plt.ylabel('Accuracy')\n",
    "plt.legend()\n",
    "\n",
    "plt.show()"
   ]
  },
  {
   "cell_type": "markdown",
   "id": "1301fdc7",
   "metadata": {},
   "source": [
    "## 7. 학습된 Embedding 레이어 분석\n",
    "### 7.1 가중치 크기\n",
    "- (vocab_size, embedding_dim)"
   ]
  },
  {
   "cell_type": "code",
   "execution_count": 23,
   "id": "0daee632",
   "metadata": {},
   "outputs": [
    {
     "name": "stdout",
     "output_type": "stream",
     "text": [
      "(10000, 16)\n"
     ]
    }
   ],
   "source": [
    "embedding_layer = model.layers[0]\n",
    "weights = embedding_layer.get_weights()[0]\n",
    "print(weights.shape)"
   ]
  },
  {
   "cell_type": "markdown",
   "id": "733f454a",
   "metadata": {},
   "source": [
    "### 7.2 Embeding 파라미터 저장\n",
    "- 워드 벡터 기록"
   ]
  },
  {
   "cell_type": "code",
   "execution_count": 24,
   "id": "7db9958a",
   "metadata": {},
   "outputs": [],
   "source": [
    "# 학습한 Embedding 파라미터를 파일에 써서 저장\n",
    "word2vec_file_path = os.getenv('HOME')+'/aiffel/sentiment_classification/data/word2vec.txt'\n",
    "f = open(word2vec_file_path, 'w')\n",
    "f.write('{} {}\\n'.format(vocab_size-4, word_vector_dim))  # 몇개의 벡터를 얼마 사이즈로 기재할지 타이틀 작성\n",
    "\n",
    "# 단어 개수(에서 특수문자 4개는 제외하고)만큼의 워드 벡터를 파일에 기록\n",
    "vectors = model.get_weights()[0]\n",
    "for i in range(4,vocab_size):\n",
    "    f.write('{} {}\\n'.format(index_to_word[i], ' '.join(map(str, list(vectors[i, :])))))\n",
    "f.close()"
   ]
  },
  {
   "cell_type": "code",
   "execution_count": 25,
   "id": "36bc7ef1",
   "metadata": {},
   "outputs": [
    {
     "data": {
      "text/plain": [
       "array([ 0.10562577,  0.10193173, -0.09038839,  0.13497007,  0.07234155,\n",
       "       -0.09846465, -0.12924936,  0.10687025, -0.12406195, -0.12742814,\n",
       "        0.08407319, -0.12270199,  0.07109763,  0.02522928, -0.05779457,\n",
       "       -0.13243857], dtype=float32)"
      ]
     },
     "execution_count": 25,
     "metadata": {},
     "output_type": "execute_result"
    }
   ],
   "source": [
    "from gensim.models.keyedvectors import Word2VecKeyedVectors\n",
    "\n",
    "word_vectors = Word2VecKeyedVectors.load_word2vec_format(word2vec_file_path, binary=False)\n",
    "vector = word_vectors['최고']\n",
    "vector"
   ]
  },
  {
   "cell_type": "markdown",
   "id": "27c1c567",
   "metadata": {},
   "source": [
    "### 7.3 비슷한 단어 출력\n",
    "- 유의미한 결과라고 보기 어려움\n",
    "- 감성 분류 태스크를 잠시 학습한 것으로는 부족"
   ]
  },
  {
   "cell_type": "code",
   "execution_count": 26,
   "id": "bc5c10e5",
   "metadata": {},
   "outputs": [
    {
     "data": {
      "text/plain": [
       "[('뻔해', 0.6617162823677063),\n",
       " ('꼬', 0.656891942024231),\n",
       " ('건가', 0.6465839743614197),\n",
       " ('리치', 0.6430264711380005),\n",
       " ('폭파', 0.6348928809165955),\n",
       " ('13', 0.6340065598487854),\n",
       " ('화딱지', 0.6267529726028442),\n",
       " ('찾아본', 0.6217987537384033),\n",
       " ('욕할', 0.6206817626953125),\n",
       " ('3', 0.6068667769432068)]"
      ]
     },
     "execution_count": 26,
     "metadata": {},
     "output_type": "execute_result"
    }
   ],
   "source": [
    "word_vectors.similar_by_word(\"끝\")"
   ]
  },
  {
   "cell_type": "markdown",
   "id": "627230dd",
   "metadata": {},
   "source": [
    "## 8. 한국어 Word2Vec 임베딩 활용하여 성능 개선\n",
    "### 8.0 라이브러리"
   ]
  },
  {
   "cell_type": "code",
   "execution_count": 27,
   "id": "84002899",
   "metadata": {},
   "outputs": [],
   "source": [
    "from gensim.models.keyedvectors import Word2VecKeyedVectors\n",
    "from gensim.models import KeyedVectors"
   ]
  },
  {
   "cell_type": "markdown",
   "id": "c7eb9f6e",
   "metadata": {},
   "source": [
    "### 8.1 한국어 Word2Vec 모델 불러오기\n",
    "- 100차원"
   ]
  },
  {
   "cell_type": "code",
   "execution_count": 28,
   "id": "b6720410",
   "metadata": {},
   "outputs": [],
   "source": [
    "word_vectors = Word2VecKeyedVectors.load('../data/word2vec_ko.model')\n",
    "vector = word_vectors.wv['끝']"
   ]
  },
  {
   "cell_type": "markdown",
   "id": "2f4d6d75",
   "metadata": {},
   "source": [
    "### 8.2 비슷한 단어 출력\n",
    "- 비슷한 단어가 잘 정리되어 있음"
   ]
  },
  {
   "cell_type": "code",
   "execution_count": 29,
   "id": "9ba894b8",
   "metadata": {},
   "outputs": [
    {
     "data": {
      "text/plain": [
       "[('마지막', 0.6325399875640869),\n",
       " ('결판', 0.5526015758514404),\n",
       " ('발목', 0.5465342402458191),\n",
       " ('산산조각', 0.5418900847434998),\n",
       " ('막바지', 0.5412753820419312),\n",
       " ('싫증', 0.5256820917129517),\n",
       " ('양쪽', 0.5253474116325378),\n",
       " ('무릎', 0.5246764421463013),\n",
       " ('후', 0.5051813721656799),\n",
       " ('이어진', 0.5038793087005615)]"
      ]
     },
     "execution_count": 29,
     "metadata": {},
     "output_type": "execute_result"
    }
   ],
   "source": [
    "word_vectors.wv.similar_by_word(\"끝\")"
   ]
  },
  {
   "cell_type": "markdown",
   "id": "3510a9b8",
   "metadata": {},
   "source": [
    "### 8.3 입력 데이터 크기 확인\n",
    "- 100 차원"
   ]
  },
  {
   "cell_type": "code",
   "execution_count": 30,
   "id": "9a0e7454",
   "metadata": {},
   "outputs": [
    {
     "name": "stdout",
     "output_type": "stream",
     "text": [
      "Word2Vec 모델의 벡터 차원: 100\n"
     ]
    }
   ],
   "source": [
    "word_vector_dim = word_vectors.vector_size\n",
    "print(f\"Word2Vec 모델의 벡터 차원: {word_vector_dim}\")"
   ]
  },
  {
   "cell_type": "markdown",
   "id": "43262b5c",
   "metadata": {},
   "source": [
    "### 8.4 모델 준비 단계\n",
    "- embedding_matrix에 Word2Vec 워드 벡터를 단어 하나씩마다 차례차례 카피"
   ]
  },
  {
   "cell_type": "code",
   "execution_count": 31,
   "id": "fe241afc",
   "metadata": {},
   "outputs": [],
   "source": [
    "vocab_size = 10000    # 어휘 사전의 크기입니다(10,000개의 단어)\n",
    "word_vector_dim = 100  # 워드 벡터의 차원수\n",
    "embedding_matrix = np.random.rand(vocab_size, word_vector_dim)\n",
    "\n",
    "for i in range(4,vocab_size):\n",
    "    if index_to_word[i] in word_vectors.wv:\n",
    "        embedding_matrix[i] = word_vectors.wv[index_to_word[i]]"
   ]
  },
  {
   "cell_type": "markdown",
   "id": "fe6d4578",
   "metadata": {},
   "source": [
    "### 8.5 모델 구성\n",
    "- 입력: 10000개의 단어, 100차원\n",
    "- 양방향 lstm \n",
    "- dropout 적용"
   ]
  },
  {
   "cell_type": "code",
   "execution_count": 32,
   "id": "72009669",
   "metadata": {},
   "outputs": [
    {
     "name": "stdout",
     "output_type": "stream",
     "text": [
      "Model: \"sequential_3\"\n",
      "_________________________________________________________________\n",
      "Layer (type)                 Output Shape              Param #   \n",
      "=================================================================\n",
      "embedding_3 (Embedding)      (None, None, 100)         1000000   \n",
      "_________________________________________________________________\n",
      "bidirectional_2 (Bidirection (None, None, 256)         234496    \n",
      "_________________________________________________________________\n",
      "dropout (Dropout)            (None, None, 256)         0         \n",
      "_________________________________________________________________\n",
      "bidirectional_3 (Bidirection (None, 128)               164352    \n",
      "_________________________________________________________________\n",
      "dense_6 (Dense)              (None, 64)                8256      \n",
      "_________________________________________________________________\n",
      "dropout_1 (Dropout)          (None, 64)                0         \n",
      "_________________________________________________________________\n",
      "dense_7 (Dense)              (None, 1)                 65        \n",
      "=================================================================\n",
      "Total params: 1,407,169\n",
      "Trainable params: 1,407,169\n",
      "Non-trainable params: 0\n",
      "_________________________________________________________________\n"
     ]
    }
   ],
   "source": [
    "from tensorflow.keras.initializers import Constant\n",
    "\n",
    "vocab_size = 10000    # 어휘 사전의 크기입니다(10,000개의 단어)\n",
    "word_vector_dim = 100  # 워드 벡터의 차원 수 \n",
    "\n",
    "model = tf.keras.Sequential()\n",
    "model.add(tf.keras.layers.Embedding(vocab_size, word_vector_dim, embeddings_initializer=Constant(embedding_matrix),\n",
    "                                    input_shape=(None,)))\n",
    "model.add(tf.keras.layers.Bidirectional(tf.keras.layers.LSTM(128, return_sequences=True)))\n",
    "model.add(tf.keras.layers.Dropout(0.5))\n",
    "model.add(tf.keras.layers.Bidirectional(tf.keras.layers.LSTM(64)))\n",
    "model.add(tf.keras.layers.Dense(64, activation='relu'))\n",
    "model.add(tf.keras.layers.Dropout(0.5))\n",
    "model.add(tf.keras.layers.Dense(1, activation='sigmoid'))\n",
    "\n",
    "model.summary()"
   ]
  },
  {
   "cell_type": "markdown",
   "id": "e9941166",
   "metadata": {},
   "source": [
    "### 8.6 모델 학습\n",
    "- early_stopping 적용\n",
    "- 배치크기: 64"
   ]
  },
  {
   "cell_type": "code",
   "execution_count": 33,
   "id": "f6ea320d",
   "metadata": {},
   "outputs": [],
   "source": [
    "from tensorflow.keras.callbacks import EarlyStopping"
   ]
  },
  {
   "cell_type": "code",
   "execution_count": 34,
   "id": "7a9460ca",
   "metadata": {},
   "outputs": [
    {
     "name": "stdout",
     "output_type": "stream",
     "text": [
      "Epoch 1/20\n",
      "1347/1347 [==============================] - 26s 16ms/step - loss: 0.4375 - accuracy: 0.7967 - val_loss: 0.3473 - val_accuracy: 0.8463\n",
      "Epoch 2/20\n",
      "1347/1347 [==============================] - 19s 14ms/step - loss: 0.3232 - accuracy: 0.8613 - val_loss: 0.3238 - val_accuracy: 0.8612\n",
      "Epoch 3/20\n",
      "1347/1347 [==============================] - 19s 14ms/step - loss: 0.2801 - accuracy: 0.8825 - val_loss: 0.3118 - val_accuracy: 0.8639\n",
      "Epoch 4/20\n",
      "1347/1347 [==============================] - 19s 14ms/step - loss: 0.2486 - accuracy: 0.8978 - val_loss: 0.3355 - val_accuracy: 0.8648\n"
     ]
    }
   ],
   "source": [
    "# 학습의 진행\n",
    "model.compile(optimizer='adam',\n",
    "              loss='binary_crossentropy',\n",
    "              metrics=['accuracy'])\n",
    "              \n",
    "epochs=20  # 몇 epoch를 훈련하면 좋을지 결과를 보면서 바꾸어 봅시다. \n",
    "\n",
    "early_stopping = EarlyStopping(monitor='val_loss', patience=1, restore_best_weights=True)\n",
    "\n",
    "history = model.fit(partial_X_train,\n",
    "                    partial_y_train,\n",
    "                    epochs=epochs,\n",
    "                    batch_size=64,\n",
    "                    validation_data=(X_val, y_val),\n",
    "                    callbacks=[early_stopping],\n",
    "                    verbose=1)"
   ]
  },
  {
   "cell_type": "markdown",
   "id": "34daee9d",
   "metadata": {},
   "source": [
    "### 8.7 모델 평가\n",
    "- accuracy: 0.8623"
   ]
  },
  {
   "cell_type": "code",
   "execution_count": 35,
   "id": "91193643",
   "metadata": {},
   "outputs": [
    {
     "name": "stdout",
     "output_type": "stream",
     "text": [
      "1537/1537 - 7s - loss: 0.3169 - accuracy: 0.8623\n",
      "[0.3168870806694031, 0.8622983694076538]\n"
     ]
    }
   ],
   "source": [
    "# 테스트셋을 통한 모델 평가\n",
    "results = model.evaluate(X_test,  y_test, verbose=2)\n",
    "\n",
    "print(results)"
   ]
  },
  {
   "cell_type": "markdown",
   "id": "138b0604",
   "metadata": {},
   "source": [
    "## 회고\n",
    "### 배운점 : \n",
    "- 텍스트 분석은 conv,maxpool로도 가능하다\n",
    "- 사전 학습 모델을 사용할 경우 모델의 성능이 향상된다\n",
    "\n",
    "### 아쉬운점:\n",
    "- 단어의 전처리에 어려움을 겪었다.\n",
    "- 사전학습모델의 경우 학습초기에 과적합이 발생하는 것 같았다.\n",
    "\n",
    "### 느낀점:\n",
    "- 상황에 맞는 사전 학습모델을 설정하는 것이 중요하다\n",
    "- 텍스트 분석을 하기위해 단어의 전처리과정이 중요하다\n",
    "\n",
    "### 어려웠던점:\n",
    "- 모델의 튜닝에 시간이 걸렸고, local환경 설정이 어려웠다."
   ]
  }
 ],
 "metadata": {
  "kernelspec": {
   "display_name": "Python 3 (ipykernel)",
   "language": "python",
   "name": "python3"
  },
  "language_info": {
   "codemirror_mode": {
    "name": "ipython",
    "version": 3
   },
   "file_extension": ".py",
   "mimetype": "text/x-python",
   "name": "python",
   "nbconvert_exporter": "python",
   "pygments_lexer": "ipython3",
   "version": "3.9.7"
  }
 },
 "nbformat": 4,
 "nbformat_minor": 5
}
