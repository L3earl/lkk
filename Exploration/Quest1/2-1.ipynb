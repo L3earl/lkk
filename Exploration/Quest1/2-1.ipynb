{
 "cells": [
  {
   "cell_type": "markdown",
   "metadata": {},
   "source": [
    "# 프로젝트 1\n",
    "### 손수 설계하는 선형회귀, 당뇨병 수치를 맞춰보자!\n",
    "- data: age, sex, bmi, bp, s1, s2, s3, s4, s5, s6\n",
    "- age: 환자의 나이\n",
    "- sex: 환자의 성별\n",
    "- bmi: 체질량지수\n",
    "- bp: 평균 혈압\n",
    "- s1: T-Cell count\n",
    "- s2: Low-Density Lipoproteins\n",
    "- s3: High-Density Lipoproteins \n",
    "- s4: 혈청 트리글리세라이드\n",
    "- s5: Lamotrigine concentration\n",
    "- s6: 혈당 수치\n",
    "- target: 1년 후 당뇨병 진행 정도"
   ]
  },
  {
   "cell_type": "markdown",
   "metadata": {},
   "source": [
    "### 0. 라이브러리"
   ]
  },
  {
   "cell_type": "code",
   "execution_count": 4,
   "metadata": {},
   "outputs": [],
   "source": [
    "import seaborn as sns\n",
    "import numpy as np\n",
    "import pandas as pd\n",
    "from sklearn.datasets import load_diabetes\n",
    "from sklearn.model_selection import train_test_split\n",
    "from sklearn.preprocessing import StandardScaler\n",
    "import matplotlib.pyplot as plt"
   ]
  },
  {
   "cell_type": "markdown",
   "metadata": {},
   "source": [
    "### 1. 데이터 가져오기\n",
    "- sklearn.datasets의 load_diabetes\n",
    "- diabetes.data : df_X\n",
    "- diabetes.target : df_y"
   ]
  },
  {
   "cell_type": "code",
   "execution_count": 12,
   "metadata": {},
   "outputs": [],
   "source": [
    "diabetes = load_diabetes()\n",
    "df_x = diabetes.data\n",
    "df_y = diabetes.target"
   ]
  },
  {
   "cell_type": "markdown",
   "metadata": {},
   "source": [
    "### 2. 모델에 입력할 데이터 X 준비하기\n",
    "- df_x -> numpy array 변환\n",
    "- 데이터 표준화 (StandardScaler)"
   ]
  },
  {
   "cell_type": "code",
   "execution_count": 16,
   "metadata": {},
   "outputs": [
    {
     "data": {
      "text/plain": [
       "array([ 0.03807591,  0.05068012,  0.06169621,  0.02187239, -0.0442235 ,\n",
       "       -0.03482076, -0.04340085, -0.00259226,  0.01990749, -0.01764613])"
      ]
     },
     "execution_count": 16,
     "metadata": {},
     "output_type": "execute_result"
    }
   ],
   "source": [
    "df_x = np.array(df_x, dtype=np.float64)\n",
    "scaler = StandardScaler()\n",
    "df_x[0, :]"
   ]
  },
  {
   "cell_type": "markdown",
   "metadata": {},
   "source": [
    "### 3. 모델에 예측할 데이터 y 준비하기\n",
    "- df_y -> numpy array 변환"
   ]
  },
  {
   "cell_type": "code",
   "execution_count": 17,
   "metadata": {},
   "outputs": [],
   "source": [
    "df_y = np.array(df_y, dtype=np.float64)"
   ]
  },
  {
   "cell_type": "markdown",
   "metadata": {},
   "source": [
    "### 4. train 데이터와 test 데이터로 분리하기\n",
    "- train, test 분리"
   ]
  },
  {
   "cell_type": "code",
   "execution_count": 20,
   "metadata": {},
   "outputs": [
    {
     "name": "stdout",
     "output_type": "stream",
     "text": [
      "(309, 10) (133, 10) (309,) (133,)\n"
     ]
    }
   ],
   "source": [
    "x_train, x_test, y_train, y_test = train_test_split(df_x, df_y, test_size=0.30, random_state=1)\n",
    "print(x_train.shape, x_test.shape, y_train.shape, y_test.shape)"
   ]
  },
  {
   "cell_type": "markdown",
   "metadata": {},
   "source": [
    "### 5. 모델 준비하기\n",
    "- W와 b 초기화 (W:feature의 갯수, b:상수)\n",
    "- 모델 함수 정의"
   ]
  },
  {
   "cell_type": "code",
   "execution_count": 23,
   "metadata": {},
   "outputs": [],
   "source": [
    "W = np.random.rand(10) \n",
    "b = np.random.rand()\n",
    "\n",
    "def model(x, W, b):\n",
    "    predictions = 0\n",
    "    for i in range(10):\n",
    "        predictions += x[:, i] * W[i]\n",
    "    predictions += b\n",
    "    return predictions"
   ]
  },
  {
   "cell_type": "markdown",
   "metadata": {},
   "source": [
    "### 6. 손실함수 loss 정의하기\n",
    "- 손실함수: MSE함수"
   ]
  },
  {
   "cell_type": "code",
   "execution_count": 25,
   "metadata": {},
   "outputs": [],
   "source": [
    "def MSE(a, b):\n",
    "    mse = ((a - b) ** 2).mean() \n",
    "    return mse\n",
    "\n",
    "def loss(x, W, b, y):\n",
    "    predictions = model(x, W, b)\n",
    "    L = MSE(predictions, y)\n",
    "    return L"
   ]
  },
  {
   "cell_type": "markdown",
   "metadata": {},
   "source": [
    "### 7. 기울기를 구하는 gragient 함수 구현하기\n",
    "- gradient 함수 정의"
   ]
  },
  {
   "cell_type": "code",
   "execution_count": 26,
   "metadata": {},
   "outputs": [],
   "source": [
    "def gradient(x, W, b, y):\n",
    "    N = len(y)\n",
    "    y_pred = model(x, W, b)\n",
    "    dW = (2/N) * (x.T.dot(y_pred - y))\n",
    "    db = 2 * (y_pred - y).mean()\n",
    "    return dW, db"
   ]
  },
  {
   "cell_type": "markdown",
   "metadata": {},
   "source": [
    "### 8. 하이퍼 파라미터인 학습률 설정하기\n",
    "- 시도한 학습률: 0.001, 0.01, 0.1, 0.2, 0.3\n",
    "- 선택한 학습률: 0.2"
   ]
  },
  {
   "cell_type": "code",
   "execution_count": 27,
   "metadata": {},
   "outputs": [],
   "source": [
    "LEARNING_RATE = 0.2"
   ]
  },
  {
   "cell_type": "markdown",
   "metadata": {},
   "source": [
    "### 9. 모델 학습하기\n",
    "- 모델 학습\n",
    "- loss 과정 확인 (최적: 1600회)\n",
    "- W, b 선정"
   ]
  },
  {
   "cell_type": "code",
   "execution_count": 28,
   "metadata": {},
   "outputs": [
    {
     "name": "stdout",
     "output_type": "stream",
     "text": [
      "Iteration 10 : Loss 6115.6377\n",
      "Iteration 20 : Loss 5953.7913\n",
      "Iteration 30 : Loss 5802.8913\n",
      "Iteration 40 : Loss 5661.3863\n",
      "Iteration 50 : Loss 5528.6375\n",
      "Iteration 60 : Loss 5404.0511\n",
      "Iteration 70 : Loss 5287.0747\n",
      "Iteration 80 : Loss 5177.1943\n",
      "Iteration 90 : Loss 5073.9322\n",
      "Iteration 100 : Loss 4976.8436\n",
      "Iteration 110 : Loss 4885.5150\n",
      "Iteration 120 : Loss 4799.5617\n",
      "Iteration 130 : Loss 4718.6256\n",
      "Iteration 140 : Loss 4642.3735\n",
      "Iteration 150 : Loss 4570.4955\n",
      "Iteration 160 : Loss 4502.7031\n",
      "Iteration 170 : Loss 4438.7278\n",
      "Iteration 180 : Loss 4378.3196\n",
      "Iteration 190 : Loss 4321.2459\n",
      "Iteration 200 : Loss 4267.2900\n",
      "Iteration 210 : Loss 4216.2503\n",
      "Iteration 220 : Loss 4167.9390\n",
      "Iteration 230 : Loss 4122.1812\n",
      "Iteration 240 : Loss 4078.8139\n",
      "Iteration 250 : Loss 4037.6855\n",
      "Iteration 260 : Loss 3998.6545\n",
      "Iteration 270 : Loss 3961.5893\n",
      "Iteration 280 : Loss 3926.3670\n",
      "Iteration 290 : Loss 3892.8732\n",
      "Iteration 300 : Loss 3861.0013\n",
      "Iteration 310 : Loss 3830.6519\n",
      "Iteration 320 : Loss 3801.7321\n",
      "Iteration 330 : Loss 3774.1556\n",
      "Iteration 340 : Loss 3747.8416\n",
      "Iteration 350 : Loss 3722.7149\n",
      "Iteration 360 : Loss 3698.7051\n",
      "Iteration 370 : Loss 3675.7468\n",
      "Iteration 380 : Loss 3653.7787\n",
      "Iteration 390 : Loss 3632.7437\n",
      "Iteration 400 : Loss 3612.5883\n",
      "Iteration 410 : Loss 3593.2627\n",
      "Iteration 420 : Loss 3574.7202\n",
      "Iteration 430 : Loss 3556.9173\n",
      "Iteration 440 : Loss 3539.8132\n",
      "Iteration 450 : Loss 3523.3698\n",
      "Iteration 460 : Loss 3507.5515\n",
      "Iteration 470 : Loss 3492.3248\n",
      "Iteration 480 : Loss 3477.6586\n",
      "Iteration 490 : Loss 3463.5236\n",
      "Iteration 500 : Loss 3449.8923\n",
      "Iteration 510 : Loss 3436.7391\n",
      "Iteration 520 : Loss 3424.0400\n",
      "Iteration 530 : Loss 3411.7722\n",
      "Iteration 540 : Loss 3399.9148\n",
      "Iteration 550 : Loss 3388.4477\n",
      "Iteration 560 : Loss 3377.3522\n",
      "Iteration 570 : Loss 3366.6109\n",
      "Iteration 580 : Loss 3356.2073\n",
      "Iteration 590 : Loss 3346.1259\n",
      "Iteration 600 : Loss 3336.3520\n",
      "Iteration 610 : Loss 3326.8720\n",
      "Iteration 620 : Loss 3317.6729\n",
      "Iteration 630 : Loss 3308.7426\n",
      "Iteration 640 : Loss 3300.0696\n",
      "Iteration 650 : Loss 3291.6430\n",
      "Iteration 660 : Loss 3283.4528\n",
      "Iteration 670 : Loss 3275.4891\n",
      "Iteration 680 : Loss 3267.7430\n",
      "Iteration 690 : Loss 3260.2057\n",
      "Iteration 700 : Loss 3252.8693\n",
      "Iteration 710 : Loss 3245.7259\n",
      "Iteration 720 : Loss 3238.7682\n",
      "Iteration 730 : Loss 3231.9895\n",
      "Iteration 740 : Loss 3225.3830\n",
      "Iteration 750 : Loss 3218.9427\n",
      "Iteration 760 : Loss 3212.6625\n",
      "Iteration 770 : Loss 3206.5370\n",
      "Iteration 780 : Loss 3200.5607\n",
      "Iteration 790 : Loss 3194.7286\n",
      "Iteration 800 : Loss 3189.0359\n",
      "Iteration 810 : Loss 3183.4780\n",
      "Iteration 820 : Loss 3178.0505\n",
      "Iteration 830 : Loss 3172.7492\n",
      "Iteration 840 : Loss 3167.5702\n",
      "Iteration 850 : Loss 3162.5097\n",
      "Iteration 860 : Loss 3157.5640\n",
      "Iteration 870 : Loss 3152.7296\n",
      "Iteration 880 : Loss 3148.0034\n",
      "Iteration 890 : Loss 3143.3819\n",
      "Iteration 900 : Loss 3138.8623\n",
      "Iteration 910 : Loss 3134.4416\n",
      "Iteration 920 : Loss 3130.1169\n",
      "Iteration 930 : Loss 3125.8857\n",
      "Iteration 940 : Loss 3121.7453\n",
      "Iteration 950 : Loss 3117.6932\n",
      "Iteration 960 : Loss 3113.7271\n",
      "Iteration 970 : Loss 3109.8446\n",
      "Iteration 980 : Loss 3106.0436\n",
      "Iteration 990 : Loss 3102.3220\n",
      "Iteration 1000 : Loss 3098.6776\n",
      "Iteration 1010 : Loss 3095.1085\n",
      "Iteration 1020 : Loss 3091.6128\n",
      "Iteration 1030 : Loss 3088.1887\n",
      "Iteration 1040 : Loss 3084.8343\n",
      "Iteration 1050 : Loss 3081.5480\n",
      "Iteration 1060 : Loss 3078.3281\n",
      "Iteration 1070 : Loss 3075.1730\n",
      "Iteration 1080 : Loss 3072.0811\n",
      "Iteration 1090 : Loss 3069.0509\n",
      "Iteration 1100 : Loss 3066.0810\n",
      "Iteration 1110 : Loss 3063.1700\n",
      "Iteration 1120 : Loss 3060.3165\n",
      "Iteration 1130 : Loss 3057.5191\n",
      "Iteration 1140 : Loss 3054.7766\n",
      "Iteration 1150 : Loss 3052.0878\n",
      "Iteration 1160 : Loss 3049.4514\n",
      "Iteration 1170 : Loss 3046.8661\n",
      "Iteration 1180 : Loss 3044.3310\n",
      "Iteration 1190 : Loss 3041.8449\n",
      "Iteration 1200 : Loss 3039.4067\n",
      "Iteration 1210 : Loss 3037.0153\n",
      "Iteration 1220 : Loss 3034.6697\n",
      "Iteration 1230 : Loss 3032.3690\n",
      "Iteration 1240 : Loss 3030.1121\n",
      "Iteration 1250 : Loss 3027.8981\n",
      "Iteration 1260 : Loss 3025.7262\n",
      "Iteration 1270 : Loss 3023.5953\n",
      "Iteration 1280 : Loss 3021.5047\n",
      "Iteration 1290 : Loss 3019.4534\n",
      "Iteration 1300 : Loss 3017.4407\n",
      "Iteration 1310 : Loss 3015.4658\n",
      "Iteration 1320 : Loss 3013.5278\n",
      "Iteration 1330 : Loss 3011.6259\n",
      "Iteration 1340 : Loss 3009.7596\n",
      "Iteration 1350 : Loss 3007.9279\n",
      "Iteration 1360 : Loss 3006.1302\n",
      "Iteration 1370 : Loss 3004.3658\n",
      "Iteration 1380 : Loss 3002.6341\n",
      "Iteration 1390 : Loss 3000.9343\n",
      "Iteration 1400 : Loss 2999.2658\n",
      "Iteration 1410 : Loss 2997.6279\n",
      "Iteration 1420 : Loss 2996.0201\n",
      "Iteration 1430 : Loss 2994.4418\n",
      "Iteration 1440 : Loss 2992.8923\n",
      "Iteration 1450 : Loss 2991.3711\n",
      "Iteration 1460 : Loss 2989.8777\n",
      "Iteration 1470 : Loss 2988.4113\n",
      "Iteration 1480 : Loss 2986.9716\n",
      "Iteration 1490 : Loss 2985.5580\n",
      "Iteration 1500 : Loss 2984.1700\n",
      "Iteration 1510 : Loss 2982.8071\n",
      "Iteration 1520 : Loss 2981.4687\n",
      "Iteration 1530 : Loss 2980.1545\n",
      "Iteration 1540 : Loss 2978.8639\n",
      "Iteration 1550 : Loss 2977.5964\n",
      "Iteration 1560 : Loss 2976.3517\n",
      "Iteration 1570 : Loss 2975.1292\n",
      "Iteration 1580 : Loss 2973.9286\n",
      "Iteration 1590 : Loss 2972.7494\n",
      "Iteration 1600 : Loss 2971.5913\n"
     ]
    },
    {
     "data": {
      "text/plain": [
       "151.4947470728663"
      ]
     },
     "execution_count": 28,
     "metadata": {},
     "output_type": "execute_result"
    }
   ],
   "source": [
    "losses = []\n",
    "\n",
    "for i in range(1, 1601):\n",
    "    dW, db = gradient(x_train, W, b, y_train)\n",
    "    W -= LEARNING_RATE * dW\n",
    "    b -= LEARNING_RATE * db \n",
    "    L = loss(x_train, W, b, y_train)\n",
    "    losses.append(L)\n",
    "    if i % 10 == 0:\n",
    "        print('Iteration %d : Loss %0.4f' % (i, L))\n",
    "W;b"
   ]
  },
  {
   "cell_type": "markdown",
   "metadata": {},
   "source": [
    "### "
   ]
  },
  {
   "cell_type": "markdown",
   "metadata": {},
   "source": [
    "### 10. test 데이터에 대한 성능 확인하기\n",
    "- mse (test set)"
   ]
  },
  {
   "cell_type": "code",
   "execution_count": 29,
   "metadata": {},
   "outputs": [
    {
     "data": {
      "text/plain": [
       "2847.695231989474"
      ]
     },
     "execution_count": 29,
     "metadata": {},
     "output_type": "execute_result"
    }
   ],
   "source": [
    "prediction = model(x_test, W, b)\n",
    "mse = loss(x_test, W, b, y_test)\n",
    "mse"
   ]
  },
  {
   "cell_type": "markdown",
   "metadata": {},
   "source": [
    "### 11. 정답 데이터와 예측한 데이터 시각화하기\n",
    "- 산점도 비교 (원래값: 파란색, 예측값: 주황색)\n",
    "- x축: x데이터 첫 번째 컬럼\n",
    "- y축: target 데이터"
   ]
  },
  {
   "cell_type": "code",
   "execution_count": 30,
   "metadata": {},
   "outputs": [
    {
     "data": {
      "image/png": "[encoded data removed]",
      "text/plain": [
       "<Figure size 640x480 with 1 Axes>"
      ]
     },
     "metadata": {},
     "output_type": "display_data"
    }
   ],
   "source": [
    "plt.scatter(x_test[:, 0], y_test)\n",
    "plt.scatter(x_test[:, 0], prediction)\n",
    "plt.show()"
   ]
  }
 ],
 "metadata": {
  "kernelspec": {
   "display_name": "base",
   "language": "python",
   "name": "python3"
  },
  "language_info": {
   "codemirror_mode": {
    "name": "ipython",
    "version": 3
   },
   "file_extension": ".py",
   "mimetype": "text/x-python",
   "name": "python",
   "nbconvert_exporter": "python",
   "pygments_lexer": "ipython3",
   "version": "3.9.7"
  }
 },
 "nbformat": 4,
 "nbformat_minor": 2
}
